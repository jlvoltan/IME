{
 "cells": [
  {
   "cell_type": "code",
   "execution_count": 1,
   "metadata": {},
   "outputs": [],
   "source": [
    "import subprocess\n",
    "import time\n",
    "\n",
    "durations = {}\n",
    "\n",
    "def execute_command(command):\n",
    "    args = command.split(' ')\n",
    "    start_time = time.time()\n",
    "    subp = subprocess.Popen(\n",
    "        args,\n",
    "        stdin=subprocess.PIPE,\n",
    "        stdout=subprocess.PIPE,\n",
    "        stderr=subprocess.PIPE)\n",
    "    output, err = subp.communicate()\n",
    "    end_time = time.time()\n",
    "    output = output.decode(\"utf-8\")\n",
    "    total_time = end_time - start_time\n",
    "    print(f' Resultado: {output} Tempo de execução: {total_time}')"
   ]
  },
  {
   "cell_type": "markdown",
   "metadata": {},
   "source": [
    "## Threads, execução com 2 processadores"
   ]
  },
  {
   "cell_type": "code",
   "execution_count": 2,
   "metadata": {},
   "outputs": [
    {
     "name": "stdout",
     "output_type": "stream",
     "text": [
      " Resultado: 64290780.621051684\n",
      " Tempo de execução: 3.0350825786590576\n",
      " Resultado: 63554443.76625924\n",
      " Tempo de execução: 2.9739551544189453\n",
      " Resultado: 64284305.06612413\n",
      " Tempo de execução: 2.990191698074341\n",
      " Resultado: 64219647.743586466\n",
      " Tempo de execução: 2.9642891883850098\n",
      " Resultado: 63801067.80606595\n",
      " Tempo de execução: 2.9742257595062256\n",
      " Resultado: 63903140.42288764\n",
      " Tempo de execução: 2.9707577228546143\n",
      "1 loop, best of 5: 2.96 s per loop\n"
     ]
    }
   ],
   "source": [
    "duration = %timeit -r 5 -o execute_command('python test.py Thread 2')\n",
    "durations['Thread 2'] = duration"
   ]
  },
  {
   "cell_type": "markdown",
   "metadata": {},
   "source": [
    "## Threads, execução com 4 processadores"
   ]
  },
  {
   "cell_type": "code",
   "execution_count": 3,
   "metadata": {},
   "outputs": [
    {
     "name": "stdout",
     "output_type": "stream",
     "text": [
      " Resultado: 63739421.354953185\n",
      " Tempo de execução: 2.937390089035034\n",
      " Resultado: 63939908.25514122\n",
      " Tempo de execução: 3.187779426574707\n",
      " Resultado: 64361713.53739072\n",
      " Tempo de execução: 3.1863672733306885\n",
      " Resultado: 63789356.84021576\n",
      " Tempo de execução: 2.991394281387329\n",
      " Resultado: 63573084.24197673\n",
      " Tempo de execução: 2.9031050205230713\n",
      " Resultado: 63803907.41562784\n",
      " Tempo de execução: 2.9036872386932373\n",
      "1 loop, best of 5: 2.9 s per loop\n"
     ]
    }
   ],
   "source": [
    "duration = %timeit -r 5 -o execute_command('python test.py Thread 4')\n",
    "durations['Thread 4'] = duration"
   ]
  },
  {
   "cell_type": "markdown",
   "metadata": {},
   "source": [
    "## MPI, execução com 2 processadores"
   ]
  },
  {
   "cell_type": "code",
   "execution_count": 4,
   "metadata": {},
   "outputs": [
    {
     "name": "stdout",
     "output_type": "stream",
     "text": [
      " Resultado: 64040017.94374001\n",
      " Tempo de execução: 3.7645084857940674\n",
      " Resultado: 64357915.75494164\n",
      " Tempo de execução: 3.643507480621338\n",
      " Resultado: 63923571.60768071\n",
      " Tempo de execução: 3.6832826137542725\n",
      " Resultado: 64021902.1963093\n",
      " Tempo de execução: 3.6691083908081055\n",
      " Resultado: 63838991.75293431\n",
      " Tempo de execução: 3.6786422729492188\n",
      " Resultado: 64274136.28237516\n",
      " Tempo de execução: 3.93955397605896\n",
      "1 loop, best of 5: 3.64 s per loop\n"
     ]
    }
   ],
   "source": [
    "duration = %timeit -r 5 -o execute_command('mpiexec -n 3 python test.py MPI 2')\n",
    "durations['MPI 2'] = duration"
   ]
  },
  {
   "cell_type": "markdown",
   "metadata": {},
   "source": [
    "## MPI, execução com 4 processadores"
   ]
  },
  {
   "cell_type": "code",
   "execution_count": 5,
   "metadata": {},
   "outputs": [
    {
     "name": "stdout",
     "output_type": "stream",
     "text": [
      " Resultado: 64183182.2103052\n",
      " Tempo de execução: 4.605564117431641\n",
      " Resultado: 63777726.241977185\n",
      " Tempo de execução: 4.5808265209198\n",
      " Resultado: 64119094.5694333\n",
      " Tempo de execução: 4.591684579849243\n",
      " Resultado: 64068186.967102975\n",
      " Tempo de execução: 4.5383148193359375\n",
      " Resultado: 64117854.45903967\n",
      " Tempo de execução: 4.550282716751099\n",
      " Resultado: 63893730.05532904\n",
      " Tempo de execução: 4.539808511734009\n",
      "1 loop, best of 5: 4.55 s per loop\n"
     ]
    }
   ],
   "source": [
    "duration = %timeit -r 5 -o execute_command('mpiexec -n 5 python test.py MPI 4')\n",
    "durations['MPI 4'] = duration"
   ]
  },
  {
   "cell_type": "markdown",
   "metadata": {},
   "source": [
    "## MPI e threads, execução com 2 nós e 2 threads por nó"
   ]
  },
  {
   "cell_type": "code",
   "execution_count": 6,
   "metadata": {},
   "outputs": [
    {
     "name": "stdout",
     "output_type": "stream",
     "text": [
      " Resultado: 64298812.51948832\n",
      " Tempo de execução: 3.810222625732422\n",
      " Resultado: 63807569.90159674\n",
      " Tempo de execução: 3.625837802886963\n",
      " Resultado: 63580852.99293032\n",
      " Tempo de execução: 3.7428395748138428\n",
      " Resultado: 64147786.69991295\n",
      " Tempo de execução: 3.73659348487854\n",
      " Resultado: 63943240.8197622\n",
      " Tempo de execução: 3.69482159614563\n",
      " Resultado: 64372672.89928149\n",
      " Tempo de execução: 3.7266712188720703\n",
      "1 loop, best of 5: 3.63 s per loop\n"
     ]
    }
   ],
   "source": [
    "duration = %timeit -r 5 -o execute_command('mpiexec -n 3 python test.py Mix')\n",
    "durations['Mix'] = duration"
   ]
  }
 ],
 "metadata": {
  "kernelspec": {
   "display_name": "Python 3",
   "language": "python",
   "name": "python3"
  },
  "language_info": {
   "codemirror_mode": {
    "name": "ipython",
    "version": 3
   },
   "file_extension": ".py",
   "mimetype": "text/x-python",
   "name": "python",
   "nbconvert_exporter": "python",
   "pygments_lexer": "ipython3",
   "version": "3.6.1"
  }
 },
 "nbformat": 4,
 "nbformat_minor": 2
}
