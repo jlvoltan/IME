{
 "cells": [
  {
   "cell_type": "code",
   "execution_count": 1,
   "metadata": {},
   "outputs": [],
   "source": [
    "import subprocess\n",
    "import time\n",
    "\n",
    "durations = {}\n",
    "\n",
    "def execute_command(command):\n",
    "    args = command.split(' ')\n",
    "    start_time = time.time()\n",
    "    subp = subprocess.Popen(\n",
    "        args,\n",
    "        stdin=subprocess.PIPE,\n",
    "        stdout=subprocess.PIPE,\n",
    "        stderr=subprocess.PIPE)\n",
    "    output, err = subp.communicate()\n",
    "    end_time = time.time()\n",
    "    output = output.decode(\"utf-8\")\n",
    "    total_time = end_time - start_time\n",
    "    print(f' Resultado: {output} Tempo de execução: {total_time}')"
   ]
  },
  {
   "cell_type": "markdown",
   "metadata": {},
   "source": [
    "## Threads, execução com 2 processadores"
   ]
  },
  {
   "cell_type": "code",
   "execution_count": 2,
   "metadata": {},
   "outputs": [
    {
     "name": "stdout",
     "output_type": "stream",
     "text": [
      " Resultado: 64265785.747857705\n",
      " Tempo de execução: 7.172898292541504\n",
      " Resultado: 63965803.81603585\n",
      " Tempo de execução: 7.105958461761475\n",
      " Resultado: 64108507.86449167\n",
      " Tempo de execução: 7.088442802429199\n",
      " Resultado: 63827881.62121713\n",
      " Tempo de execução: 6.916398763656616\n",
      " Resultado: 63559930.54657224\n",
      " Tempo de execução: 7.013744831085205\n",
      " Resultado: 64359930.70070909\n",
      " Tempo de execução: 7.056697368621826\n",
      "1 loop, best of 5: 6.92 s per loop\n"
     ]
    }
   ],
   "source": [
    "duration = %timeit -r 5 -o execute_command('python test.py Thread 2')\n",
    "durations['Thread 2'] = duration"
   ]
  },
  {
   "cell_type": "markdown",
   "metadata": {},
   "source": [
    "## Threads, execução com 4 processadores"
   ]
  },
  {
   "cell_type": "code",
   "execution_count": 3,
   "metadata": {},
   "outputs": [
    {
     "name": "stdout",
     "output_type": "stream",
     "text": [
      " Resultado: 64059226.824125044\n",
      " Tempo de execução: 6.827107906341553\n",
      " Resultado: 64508221.06007148\n",
      " Tempo de execução: 6.736983060836792\n",
      " Resultado: 64273257.20428763\n",
      " Tempo de execução: 6.826772928237915\n",
      " Resultado: 64489160.67961993\n",
      " Tempo de execução: 6.882556915283203\n",
      " Resultado: 64136324.5949911\n",
      " Tempo de execução: 7.042163610458374\n",
      " Resultado: 64058537.14307168\n",
      " Tempo de execução: 7.0651023387908936\n",
      "1 loop, best of 5: 6.74 s per loop\n"
     ]
    }
   ],
   "source": [
    "duration = %timeit -r 5 -o execute_command('python test.py Thread 4')\n",
    "durations['Thread 4'] = duration"
   ]
  },
  {
   "cell_type": "markdown",
   "metadata": {},
   "source": [
    "## MPI, execução com 2 processadores"
   ]
  },
  {
   "cell_type": "code",
   "execution_count": 4,
   "metadata": {},
   "outputs": [
    {
     "name": "stdout",
     "output_type": "stream",
     "text": [
      " Resultado: 64370829.69591709\n",
      " Tempo de execução: 8.503063440322876\n",
      " Resultado: 64175786.2282324\n",
      " Tempo de execução: 8.79437255859375\n",
      " Resultado: 64020022.81713858\n",
      " Tempo de execução: 28.295455932617188\n",
      " Resultado: 63533369.505298\n",
      " Tempo de execução: 8.792081594467163\n",
      " Resultado: 64025900.56384207\n",
      " Tempo de execução: 8.310617685317993\n",
      " Resultado: 63543438.99654235\n",
      " Tempo de execução: 8.449402809143066\n",
      "1 loop, best of 5: 8.31 s per loop\n"
     ]
    }
   ],
   "source": [
    "duration = %timeit -r 5 -o execute_command('mpiexec -n 3 python test.py MPI 2')\n",
    "durations['MPI 2'] = duration"
   ]
  },
  {
   "cell_type": "markdown",
   "metadata": {},
   "source": [
    "## MPI, execução com 4 processadores"
   ]
  },
  {
   "cell_type": "code",
   "execution_count": 5,
   "metadata": {},
   "outputs": [
    {
     "name": "stdout",
     "output_type": "stream",
     "text": [
      " Resultado: 63824602.733613536\n",
      " Tempo de execução: 10.435088634490967\n",
      " Resultado: 63766027.44210623\n",
      " Tempo de execução: 10.244049072265625\n",
      " Resultado: 64167347.218116835\n",
      " Tempo de execução: 9.08956789970398\n",
      " Resultado: 63937473.87096164\n",
      " Tempo de execução: 9.318251609802246\n",
      " Resultado: 64118884.605002046\n",
      " Tempo de execução: 10.32361650466919\n",
      " Resultado: 64525923.5472371\n",
      " Tempo de execução: 9.128602981567383\n",
      "1 loop, best of 5: 9.09 s per loop\n"
     ]
    }
   ],
   "source": [
    "duration = %timeit -r 5 -o execute_command('mpiexec -n 5 python test.py MPI 4')\n",
    "durations['MPI 4'] = duration"
   ]
  },
  {
   "cell_type": "markdown",
   "metadata": {},
   "source": [
    "## MPI e threads, execução com 2 nós e 2 threads por nó"
   ]
  },
  {
   "cell_type": "code",
   "execution_count": 6,
   "metadata": {},
   "outputs": [
    {
     "name": "stdout",
     "output_type": "stream",
     "text": [
      " Resultado: 63833347.42063145\n",
      " Tempo de execução: 8.161216974258423\n",
      " Resultado: 64114823.418018654\n",
      " Tempo de execução: 8.527037143707275\n",
      " Resultado: 64098041.052643165\n",
      " Tempo de execução: 8.290824174880981\n",
      " Resultado: 63601166.83450976\n",
      " Tempo de execução: 8.323152303695679\n",
      " Resultado: 64018842.24083059\n",
      " Tempo de execução: 7.507919549942017\n",
      " Resultado: 64336399.5824726\n",
      " Tempo de execução: 8.464362144470215\n",
      "1 loop, best of 5: 7.51 s per loop\n"
     ]
    }
   ],
   "source": [
    "duration = %timeit -r 5 -o execute_command('mpiexec -n 3 python test.py Mix')\n",
    "durations['Mix'] = duration"
   ]
  }
 ],
 "metadata": {
  "kernelspec": {
   "display_name": "Python 3",
   "language": "python",
   "name": "python3"
  },
  "language_info": {
   "codemirror_mode": {
    "name": "ipython",
    "version": 3
   },
   "file_extension": ".py",
   "mimetype": "text/x-python",
   "name": "python",
   "nbconvert_exporter": "python",
   "pygments_lexer": "ipython3",
   "version": "3.6.1"
  }
 },
 "nbformat": 4,
 "nbformat_minor": 2
}
